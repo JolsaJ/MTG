{
 "cells": [
  {
   "cell_type": "markdown",
   "id": "a35eeb9f-df70-4ab1-a243-2d2025888eb0",
   "metadata": {},
   "source": [
    "# Script for calculating probability of T2 Henzie:\n",
    "\n",
    "\n",
    "\n"
   ]
  },
  {
   "cell_type": "code",
   "execution_count": 105,
   "id": "fe55883a-6887-43dd-9498-5333a51799e2",
   "metadata": {},
   "outputs": [],
   "source": [
    "import random\n",
    "import itertools\n",
    "\n",
    "# Ramp is denoted by color they produced and ends with \"r\" (except for Utopia)\n",
    "# Example below: 3 green dorks + Wild growth, Ignoble + Birds, Deathrite, Elves of deep shadow, Utopia sprawl, Exploration, Burgeoninng.\n",
    "ramp = 4*[\"Gr\"] + 2*[\"RGBr\"] + 1*[\"RGBdeathrite\"] + [\"Br\"] + 1*[\"RGB_utopia\"] + 1*[\"exploration\"] + 1*[\"burgeoning\"]\n",
    "# Land designations: \"G\" is untapped green source. \"RB\" is untapped RB source. \"F\" is forest type.\n",
    "# Note: I count Exotic orchard as a colorless land and Plaza of heroes as RB (since it can't cast T1 ramp)\n",
    "monoLands = 5*[\"GF\"] + 2*[\"G\"] + 5*[\"B\"] + 3*[\"R\"]; \n",
    "dualLands = 4*[\"RB\"] + 1*[\"GBF\"] + 2*[\"GB\"] + 3*[\"RG\"] + 1*[\"RGB\"]\n",
    "fetches = 2*[\"RGF/RB\"] + [\"RB/GBF\"] + [\"RGF/GBF\"] + [\"RGF/RB/GBF\"] #\"RB/GB\" designate a fetch that can find a RB or GB source.\n",
    "tappedLands = 2*[\"GT\"] + 1*[\"RT\"] + 1*[\"BT\"] + 1*[\"RGBT\"]\n",
    "untappedLands = monoLands + dualLands + fetches\n",
    "lands = untappedLands + tappedLands\n",
    "# Make deck as list\n",
    "deck = ramp + lands + (99 - len(ramp) - len(lands))*[\"\"]"
   ]
  },
  {
   "cell_type": "code",
   "execution_count": 106,
   "id": "bafdb3ef-6e32-4570-b747-69b2e95aaeb1",
   "metadata": {},
   "outputs": [],
   "source": [
    "# Function that checks if three sources s = [s[0], s[1], s[2]] can make all Jund colors.\n",
    "def makesRGB(s):\n",
    "    bool = any([all([c[0] in s[0], c[1] in s[1], c[2] in s[2]]) for c in itertools.permutations([\"R\", \"G\", \"B\"], 3)])\n",
    "    return(bool)\n",
    "\n",
    "# Returns true if the hand can produce T2 Henzie\n",
    "def checkHand(hand):\n",
    "    untappedLandsInHand = [land for land in hand if land in untappedLands]\n",
    "    tappedLandsInHand = [land for land in hand if land in tappedLands]\n",
    "    landsInHand = untappedLandsInHand + tappedLandsInHand\n",
    "    rampInHand = [r for r in hand if r in ramp]\n",
    "    \n",
    "    # Check burgeoning and exploration first\n",
    "    if (\"exploration\" in rampInHand or \"burgeoning\" in rampInHand) and len(landsInHand) > 2:\n",
    "        isExp = \"exploration\" in rampInHand #Subtle difference: Exploration requires 2 untapped lands, Burgeoning 1.\n",
    "        rampInHand.remove(\"exploration\") if isExp else rampInHand.remove(\"burgeoning\")\n",
    "        # Check all combinations of 3 lands. \n",
    "        for l in itertools.permutations(landsInHand, 3):\n",
    "            # If first land is a non-green fetchland, we must choose a green dual land.\n",
    "            if \"/\" in l[0] and l[0].count(\"G\") == 1: \n",
    "                l0 = [s for s in l[0].split(\"/\") if \"G\" in s][0]\n",
    "                l = (l0, l[1], l[2])\n",
    "            # Check if we have RGB, have untapped G on T1 and have untapped T2 if exploration.\n",
    "            if makesRGB(l) and (\"G\" in l[0]) and not (\"T\" in l[0]+isExp*l[2]):\n",
    "                return(True)\n",
    "               \n",
    "    ## Check remaing ramp spells (dorks + enchantments)    \n",
    "    # Check if we have at least two lands and one ramp in hand\n",
    "    if len(untappedLandsInHand) < 2 or len(rampInHand) == 0:\n",
    "        return(False)\n",
    "    # Generate all permutations of land1, land2 and ramp.\n",
    "    combinations = [(l[0], l[1], r) for l in itertools.permutations(untappedLandsInHand) for r in rampInHand]\n",
    "    # For all combinations, check whether they give all colors on T2.\n",
    "    for comb in combinations:\n",
    "        firstLand = comb[0]\n",
    "        # If first land is a non-green fetchland, we must choose a green dual land.\n",
    "        if \"/\" in firstLand and firstLand.count(\"G\") == 1:\n",
    "            firstLand = [s for s in firstLand.split(\"/\") if \"G\" in s][0]\n",
    "        secondLand = comb[1]\n",
    "        r = comb[2]\n",
    "        # If the following failure cases are all False, we have T2 Henzie\n",
    "        c1 = not \"G\" in firstLand; # Check if we can cast ramp\n",
    "        c2 = \"utopia\" in r and not (\"F\" in firstLand) # Check if first land is forest if ramp is Utopia sprawl\n",
    "        c3 = \"deathrite\" in r and not (\"/\" in firstLand+secondLand) # Check if we have a fetch with Deathrite shaman\n",
    "        c4 = not makesRGB([firstLand, secondLand, r]) # check colors\n",
    "        if not any([c1, c2, c3, c4]):\n",
    "            return(True)\n",
    "        \n",
    "    return(False) # If all combinations of lands and ramp fails to produce T2 Henzie    "
   ]
  },
  {
   "cell_type": "code",
   "execution_count": 107,
   "id": "54a78aea",
   "metadata": {},
   "outputs": [
    {
     "name": "stdout",
     "output_type": "stream",
     "text": [
      "Probability of T2 Henzie: 31.1 %\n"
     ]
    }
   ],
   "source": [
    "hands = 100000\n",
    "cardsDrawn = 8\n",
    "count = 0\n",
    "for numHands in range(hands):\n",
    "    hand = random.sample(deck, cardsDrawn)\n",
    "    if checkHand(hand):\n",
    "        count = count + 1\n",
    "print(\"Probability of T2 Henzie: \" + str(count / hands * 100)[:4]+ \" %\")"
   ]
  }
 ],
 "metadata": {
  "kernelspec": {
   "display_name": "Python 3 (ipykernel)",
   "language": "python",
   "name": "python3"
  },
  "language_info": {
   "codemirror_mode": {
    "name": "ipython",
    "version": 3
   },
   "file_extension": ".py",
   "mimetype": "text/x-python",
   "name": "python",
   "nbconvert_exporter": "python",
   "pygments_lexer": "ipython3",
   "version": "3.7.1"
  }
 },
 "nbformat": 4,
 "nbformat_minor": 5
}
