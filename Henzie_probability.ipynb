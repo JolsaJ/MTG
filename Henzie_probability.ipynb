{
 "cells": [
  {
   "cell_type": "markdown",
   "id": "a35eeb9f-df70-4ab1-a243-2d2025888eb0",
   "metadata": {},
   "source": [
    "# Script for calculating probability of T2 Henzie:\n",
    "\n",
    "\n",
    "\n"
   ]
  },
  {
   "cell_type": "code",
   "execution_count": 4,
   "id": "fe55883a-6887-43dd-9498-5333a51799e2",
   "metadata": {},
   "outputs": [],
   "source": [
    "import random\n",
    "import itertools\n",
    "\n",
    "# Ramp is denoted by color they produced and ends with \"r\" (except for Utopia)\n",
    "ramp = 4*[\"Gr\"] + 2*[\"RGBr\"] + [\"Br\", \"RGB_Utopia\"]\n",
    "# Land designations: \"G\" is untapped green source. \"RB\" is untapped RB source. \"F\" is forest type.\n",
    "#\"RB/GB\" designate a fetch that can find a RB or GB source.\n",
    "# Note: I count Exotic orchard as a colorless land and Plaza of heroes as RB (since it can't cast T1 ramp)\n",
    "monoLands = 5*[\"GF\"] + 2*[\"G\"] + 5*[\"B\"] + 3*[\"R\"];\n",
    "dualLands = 4*[\"RB\"] + 1*[\"GBF\"] + 2*[\"GB\"] + 3*[\"RG\"] + 1*[\"RGB\"]\n",
    "fetches = 2*[\"RGF/RB\"] + [\"RB/GBF\"] + [\"RGF/GBF\"] + [\"RGF/RB/GBF\"]\n",
    "lands = monoLands + dualLands + fetches\n",
    "# Make deck as list\n",
    "deck = ramp + lands + (99 - len(ramp) - len(lands))*[\"\"]"
   ]
  },
  {
   "cell_type": "code",
   "execution_count": 13,
   "id": "bafdb3ef-6e32-4570-b747-69b2e95aaeb1",
   "metadata": {},
   "outputs": [
    {
     "name": "stdout",
     "output_type": "stream",
     "text": [
      "Probability of T2 Henzie: 26.3 %\n"
     ]
    }
   ],
   "source": [
    "def checkHand(hand):\n",
    "    landsInHand = [land for land in hand if land in lands]\n",
    "    rampInHand = [r for r in hand if r in ramp]\n",
    "    # Check if we have at least two lands and one ramp in hand\n",
    "    if len(landsInHand) < 2 or len(rampInHand) == 0:\n",
    "        return(False)\n",
    "    # Generate all permutations of land1, land2 and ramp.\n",
    "    combinations = [(l[0], l[1], r) for l in itertools.permutations(landsInHand) for r in rampInHand]\n",
    "    # For all combinations, check whether they give all colors on T2.\n",
    "    for comb in combinations:\n",
    "        firstLand = comb[0]\n",
    "        # If first land is a non-green fetchland, we must choose a green dual land.\n",
    "        if \"/\" in firstLand and firstLand.count(\"G\") == 1:\n",
    "            firstLand = [s for s in firstLand.split(\"/\") if \"G\" in s][0]\n",
    "        secondLand = comb[1]\n",
    "        r = comb[2]\n",
    "        # Check if we can cast ramp\n",
    "        if not \"G\" in firstLand:\n",
    "            continue\n",
    "        # Check if we have two green sources after casting ramp\n",
    "        if r == \"GD\" and firstLand == \"G\":\n",
    "            continue\n",
    "        # Check if first land is forest if ramp is Utopia sprawl\n",
    "        if \"Utopia\" in r and not (\"F\" in firstLand):\n",
    "            continue\n",
    "        # Check if we have all three colors:\n",
    "        if not any([all([c[0] in firstLand, c[1] in secondLand, c[2] in r]) for c in itertools.permutations([\"R\", \"G\", \"B\"], 3)]):\n",
    "            continue\n",
    "        return(True)\n",
    "    return(False)    \n",
    "hands = 100000\n",
    "count = 0\n",
    "for numHands in range(hands):\n",
    "    hand = random.sample(deck, 8)\n",
    "    if checkHand(hand):\n",
    "        count = count + 1\n",
    "print(\"Probability of T2 Henzie: \" + str(count / hands * 100)[:4]+ \" %\")"
   ]
  }
 ],
 "metadata": {
  "kernelspec": {
   "display_name": "Python 3 (ipykernel)",
   "language": "python",
   "name": "python3"
  },
  "language_info": {
   "codemirror_mode": {
    "name": "ipython",
    "version": 3
   },
   "file_extension": ".py",
   "mimetype": "text/x-python",
   "name": "python",
   "nbconvert_exporter": "python",
   "pygments_lexer": "ipython3",
   "version": "3.7.1"
  }
 },
 "nbformat": 4,
 "nbformat_minor": 5
}
